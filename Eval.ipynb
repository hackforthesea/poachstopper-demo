{
 "cells": [
  {
   "cell_type": "code",
   "execution_count": 38,
   "metadata": {},
   "outputs": [],
   "source": [
    "import demo\n",
    "\n",
    "import glob\n",
    "import numpy as np\n",
    "import torch\n",
    "from torch.autograd import Variable\n",
    "import matplotlib.pyplot as plt"
   ]
  },
  {
   "cell_type": "code",
   "execution_count": 8,
   "metadata": {},
   "outputs": [],
   "source": [
    "d = [0.13136332616042,\n",
    " 0.06045141476471775,\n",
    " 0.041178185500892577,\n",
    " 0.033742004736444356,\n",
    " 0.03157207117239225,\n",
    " 0.02976073872680868,\n",
    " 0.03031915376073083,\n",
    " 0.029195345364379295]"
   ]
  },
  {
   "cell_type": "code",
   "execution_count": 57,
   "metadata": {},
   "outputs": [
    {
     "data": {
      "text/plain": [
       "[<matplotlib.lines.Line2D at 0x7f479f3f98d0>]"
      ]
     },
     "execution_count": 57,
     "metadata": {},
     "output_type": "execute_result"
    },
    {
     "data": {
      "image/png": "[encoded data removed]",
      "text/plain": [
       "<matplotlib.figure.Figure at 0x7f479f5ee0d0>"
      ]
     },
     "metadata": {},
     "output_type": "display_data"
    }
   ],
   "source": [
    "# training loss per epoch\n",
    "plt.plot(d)"
   ]
  },
  {
   "cell_type": "code",
   "execution_count": 10,
   "metadata": {},
   "outputs": [],
   "source": [
    "dataset = demo.BoatDataset(demo.LABELS_FILE, demo.SOUNDS_FILE, test_set=True)\n",
    "input_size = dataset[0][0].size(1)\n",
    "BATCH_SIZE = 4"
   ]
  },
  {
   "cell_type": "code",
   "execution_count": 37,
   "metadata": {},
   "outputs": [],
   "source": [
    "def evaluate(input_size, state_file, dataset, n=None):\n",
    "    net = demo.BoatNet(input_size)\n",
    "    net.train(False)\n",
    "    dataloader = demo.DataLoader(\n",
    "        dataset,\n",
    "        batch_size=BATCH_SIZE,\n",
    "        num_workers=0,\n",
    "        shuffle=True\n",
    "    )\n",
    "    \n",
    "    # load weights\n",
    "    state_dict = torch.load(state_file)\n",
    "    net.load_state_dict(state_dict)\n",
    "\n",
    "    # results\n",
    "    all_y = []\n",
    "    all_y_pred = []\n",
    "    for i, (x, y) in enumerate(dataloader):\n",
    "\n",
    "        # forward pass\n",
    "        batch_size = x.size(0)  # batch is first dimension\n",
    "        hidden = net.init_hidden(batch=batch_size)  # reset hidden layer!\n",
    "        hidden.volatile=True  # set to volatile since don't care about gradient        \n",
    "        y_pred = net(Variable(x, volatile=True), hidden).data\n",
    "        y_pred = y_pred.numpy().argmax(axis=1)\n",
    "        all_y.extend(y.tolist())\n",
    "        all_y_pred.extend(y_pred.tolist())\n",
    "        \n",
    "        if i % 5 == 1:\n",
    "            acc = np.sum(np.array(all_y) == all_y_pred) / float(len(all_y))\n",
    "            print \"\\r  evaluating @ %d accuracy: %.2f\" % (i, acc * 100),\n",
    "        \n",
    "        if n and i == n:\n",
    "            break\n",
    "\n",
    "    acc = np.sum(np.array(all_y) == all_y_pred) / float(len(all_y))\n",
    "    print\n",
    "    return net, all_y, all_y_pred, acc"
   ]
  },
  {
   "cell_type": "code",
   "execution_count": 33,
   "metadata": {},
   "outputs": [
    {
     "name": "stdout",
     "output_type": "stream",
     "text": [
      "Evaluating @ 96 accuracy: 85.31 \n"
     ]
    }
   ],
   "source": [
    "net, all_y, all_y_pred, acc = evaluate(input_size, \"model_00_000000499.state\", dataset, n=100)"
   ]
  },
  {
   "cell_type": "code",
   "execution_count": 54,
   "metadata": {},
   "outputs": [
    {
     "data": {
      "text/plain": [
       "['model_00_000000499.state',\n",
       " 'model_01_000000499.state',\n",
       " 'model_02_000000499.state',\n",
       " 'model_03_000000499.state',\n",
       " 'model_04_000000499.state',\n",
       " 'model_05_000000499.state',\n",
       " 'model_06_000000499.state',\n",
       " 'model_07_000000499.state',\n",
       " 'model_08_000000499.state']"
      ]
     },
     "execution_count": 54,
     "metadata": {},
     "output_type": "execute_result"
    }
   ],
   "source": [
    "# state_files = sorted(glob.glob(\"model_0?_000028453.state\"))\n",
    "state_files = sorted(glob.glob(\"model_0?_000000499.state\"))\n",
    "state_files"
   ]
  },
  {
   "cell_type": "code",
   "execution_count": 55,
   "metadata": {},
   "outputs": [
    {
     "name": "stdout",
     "output_type": "stream",
     "text": [
      "Evaluating model_00_000000499.state\n",
      "  evaluating @ 6 accuracy: 89.29 \n",
      "  model_00_000000499.state: 90.91\n",
      "Evaluating model_01_000000499.state\n",
      "  evaluating @ 6 accuracy: 96.430 \n",
      "  model_01_000000499.state: 97.73\n",
      "Evaluating model_02_000000499.state\n",
      "  evaluating @ 6 accuracy: 89.290 \n",
      "  model_02_000000499.state: 90.91\n",
      "Evaluating model_03_000000499.state\n",
      "  evaluating @ 6 accuracy: 96.430 \n",
      "  model_03_000000499.state: 97.73\n",
      "Evaluating model_04_000000499.state\n",
      "  evaluating @ 6 accuracy: 100.00 \n",
      "  model_04_000000499.state: 100.00\n",
      "Evaluating model_05_000000499.state\n",
      "  evaluating @ 6 accuracy: 100.00 \n",
      "  model_05_000000499.state: 100.00\n",
      "Evaluating model_06_000000499.state\n",
      "  evaluating @ 6 accuracy: 100.00 \n",
      "  model_06_000000499.state: 100.00\n",
      "Evaluating model_07_000000499.state\n",
      "  evaluating @ 6 accuracy: 96.430 \n",
      "  model_07_000000499.state: 95.45\n",
      "Evaluating model_08_000000499.state\n",
      "  evaluating @ 6 accuracy: 100.00 \n",
      "  model_08_000000499.state: 97.73\n"
     ]
    }
   ],
   "source": [
    "results = []\n",
    "n = 100\n",
    "with open(\"eval.log\", \"w\") as f:\n",
    "    for state_file in state_files:\n",
    "        print \"Evaluating\", state_file\n",
    "        net, all_y, all_y_pred, acc = evaluate(input_size, state_file, dataset, n=n)\n",
    "        results.append((state_file, all_y, all_y_pred, acc))\n",
    "        print \"  %s: %.2f\" % (state_file, acc * 100)\n",
    "        print >> f, \"%s,%.5f\" % (state_file, acc)\n",
    "        f.flush()"
   ]
  },
  {
   "cell_type": "code",
   "execution_count": 59,
   "metadata": {},
   "outputs": [
    {
     "data": {
      "text/plain": [
       "[<matplotlib.lines.Line2D at 0x7f479f2f0d90>]"
      ]
     },
     "execution_count": 59,
     "metadata": {},
     "output_type": "execute_result"
    },
    {
     "data": {
      "image/png": "[encoded data removed]",
      "text/plain": [
       "<matplotlib.figure.Figure at 0x7f479f3de3d0>"
      ]
     },
     "metadata": {},
     "output_type": "display_data"
    }
   ],
   "source": [
    "with open(\"eval.log\") as f:\n",
    "    accs = [float(line.strip().split(\",\")[-1]) for line in f]\n",
    "plt.plot(accs, \"-o\")"
   ]
  },
  {
   "cell_type": "code",
   "execution_count": null,
   "metadata": {},
   "outputs": [],
   "source": []
  }
 ],
 "metadata": {
  "kernelspec": {
   "display_name": "Environment (conda_arel-pytorch)",
   "language": "python",
   "name": "conda_arel-pytorch"
  },
  "language_info": {
   "codemirror_mode": {
    "name": "ipython",
    "version": 2
   },
   "file_extension": ".py",
   "mimetype": "text/x-python",
   "name": "python",
   "nbconvert_exporter": "python",
   "pygments_lexer": "ipython2",
   "version": "2.7.14"
  }
 },
 "nbformat": 4,
 "nbformat_minor": 2
}
