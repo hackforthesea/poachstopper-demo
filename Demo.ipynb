{
 "cells": [
  {
   "cell_type": "markdown",
   "metadata": {},
   "source": [
    "# Boat net\n",
    "\n",
    "Dashboard: http://localhost:9080"
   ]
  },
  {
   "cell_type": "code",
   "execution_count": 2,
   "metadata": {},
   "outputs": [],
   "source": [
    "import random\n",
    "import collections\n",
    "import itertools\n",
    "import numpy as np\n",
    "from sklearn.metrics import confusion_matrix\n",
    "import matplotlib.pyplot as plt\n",
    "import torch\n",
    "from torch.utils.data import DataLoader\n",
    "from torch.autograd import Variable\n",
    "import demo\n",
    "from demo import BoatDataset"
   ]
  },
  {
   "cell_type": "code",
   "execution_count": 4,
   "metadata": {},
   "outputs": [
    {
     "data": {
      "text/plain": [
       "128"
      ]
     },
     "execution_count": 4,
     "metadata": {},
     "output_type": "execute_result"
    }
   ],
   "source": [
    "dataset = BoatDataset(\"data.csv\", \"sounds-spectrogram.pkl\")\n",
    "dataloader = DataLoader(\n",
    "    dataset,\n",
    "    batch_size=1,\n",
    "    num_workers=4,\n",
    "    shuffle=True\n",
    ")\n",
    "input_size = dataset[0][0].size(1)"
   ]
  },
  {
   "cell_type": "code",
   "execution_count": 5,
   "metadata": {},
   "outputs": [],
   "source": [
    "net = demo.BoatNet(input_size=input_size)\n",
    "net.train(False)  # set dropout to inference mode\n",
    "state_dict = torch.load(\"model_00_000001999.state\")\n",
    "net.load_state_dict(state_dict=state_dict)"
   ]
  },
  {
   "cell_type": "code",
   "execution_count": 6,
   "metadata": {},
   "outputs": [],
   "source": [
    "x, y = dataset[-1]"
   ]
  },
  {
   "cell_type": "code",
   "execution_count": 7,
   "metadata": {},
   "outputs": [],
   "source": [
    "def pred(x):\n",
    "    x = x.expand(1, -1, -1)  # expand batch of one\n",
    "    # Reset hidden layer!\n",
    "    hidden = net.init_hidden()\n",
    "    hidden.volatile=True\n",
    "    return net(Variable(x, volatile=True), hidden).data"
   ]
  },
  {
   "cell_type": "code",
   "execution_count": 8,
   "metadata": {},
   "outputs": [
    {
     "name": "stdout",
     "output_type": "stream",
     "text": [
      "['-0.000', '-9.528', '-11.165']\n",
      "0\n",
      "0\n",
      "564537\n"
     ]
    }
   ],
   "source": [
    "y_pred = pred(x)\n",
    "print [\"%.3f\" % i for i in y_pred.view(-1).tolist()]\n",
    "print np.array(pred(x)).argmax()\n",
    "print y\n",
    "print len(dataset)"
   ]
  },
  {
   "cell_type": "code",
   "execution_count": 9,
   "metadata": {},
   "outputs": [
    {
     "name": "stdout",
     "output_type": "stream",
     "text": [
      "got 907 of 1000: %90.70\n",
      "saw Counter({2: 513, 1: 365, 0: 122})\n"
     ]
    }
   ],
   "source": [
    "indices = range(len(dataset))\n",
    "random.Random(0).shuffle(indices)\n",
    "right = []\n",
    "labels = []\n",
    "labels_pred = []\n",
    "for i in indices[:1000]:\n",
    "    x, y = dataset[i]\n",
    "    y_pred = pred(x)\n",
    "    guess = pred(x).numpy().argmax()\n",
    "    right.append(guess == y)\n",
    "    labels.append(y)\n",
    "    labels_pred.append(guess)\n",
    "\n",
    "l = len(right)\n",
    "r = sum(right)\n",
    "print \"got %d of %d: %%%.2f\" % (r, l, 100. * r / l)\n",
    "print \"saw\", collections.Counter(labels)\n",
    "\n"
   ]
  },
  {
   "cell_type": "code",
   "execution_count": 10,
   "metadata": {},
   "outputs": [
    {
     "data": {
      "text/plain": [
       "array([[114,   1,   7],\n",
       "       [  2, 303,  60],\n",
       "       [  3,  20, 490]])"
      ]
     },
     "execution_count": 10,
     "metadata": {},
     "output_type": "execute_result"
    }
   ],
   "source": [
    "cnf_matrix = confusion_matrix(labels, labels_pred)\n",
    "cnf_matrix"
   ]
  },
  {
   "cell_type": "code",
   "execution_count": 11,
   "metadata": {},
   "outputs": [
    {
     "data": {
      "text/plain": [
       "Text(0.5,-30.5079,u'Predicted label')"
      ]
     },
     "execution_count": 11,
     "metadata": {},
     "output_type": "execute_result"
    },
    {
     "data": {
      "image/png": "[encoded data removed]",
      "text/plain": [
       "<matplotlib.figure.Figure at 0x7f2e44d637d0>"
      ]
     },
     "metadata": {},
     "output_type": "display_data"
    }
   ],
   "source": [
    "plt.imshow(cnf_matrix, interpolation='nearest', cmap=plt.cm.Blues)\n",
    "classes = [\"Neither\", \"T1 - Bottom\", \"T2 - Midwater\"]\n",
    "plt.colorbar()\n",
    "tick_marks = np.arange(len(classes))\n",
    "plt.xticks(tick_marks, classes, rotation=45)\n",
    "plt.yticks(tick_marks, classes)\n",
    "\n",
    "fmt = 'd'\n",
    "thresh = cnf_matrix.max() / 2.\n",
    "for i, j in itertools.product(range(cnf_matrix.shape[0]), range(cnf_matrix.shape[1])):\n",
    "    plt.text(j, i, format(cnf_matrix[i, j], fmt),\n",
    "             horizontalalignment=\"center\",\n",
    "             color=\"white\" if cnf_matrix[i, j] > thresh else \"black\")\n",
    "\n",
    "plt.tight_layout()\n",
    "plt.ylabel('True label')\n",
    "plt.xlabel('Predicted label')\n"
   ]
  },
  {
   "cell_type": "code",
   "execution_count": null,
   "metadata": {},
   "outputs": [],
   "source": []
  }
 ],
 "metadata": {
  "kernelspec": {
   "display_name": "Environment (conda_arel-pytorch)",
   "language": "python",
   "name": "conda_arel-pytorch"
  },
  "language_info": {
   "codemirror_mode": {
    "name": "ipython",
    "version": 2
   },
   "file_extension": ".py",
   "mimetype": "text/x-python",
   "name": "python",
   "nbconvert_exporter": "python",
   "pygments_lexer": "ipython2",
   "version": "2.7.14"
  }
 },
 "nbformat": 4,
 "nbformat_minor": 2
}
